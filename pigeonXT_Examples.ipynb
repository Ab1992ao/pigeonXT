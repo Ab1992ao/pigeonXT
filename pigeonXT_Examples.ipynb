{
 "cells": [
  {
   "cell_type": "markdown",
   "metadata": {},
   "source": [
    "# PigeonXT - Quickly annotate data in Jupyter Lab"
   ]
  },
  {
   "cell_type": "markdown",
   "metadata": {},
   "source": [
    "#### [Dennis Bakhuis](https://linkedin.com/in/dennisbakhuis/) - 28th May 2020\n",
    "https://github.com/dennisbakhuis/pigeonXT"
   ]
  },
  {
   "cell_type": "markdown",
   "metadata": {},
   "source": [
    "PigeonXT is an extention to the original [Pigeon](https://github.com/agermanidis/pigeon), created by [Anastasis Germanidis](https://pypi.org/user/agermanidis/).\n",
    "PigeonXT is a simple widget that lets you quickly annotate a dataset of\n",
    "unlabeled examples from the comfort of your Jupyter notebook.\n",
    "\n",
    "Pigeon currently support the following annotation tasks:\n",
    "- binary / multi-class classification\n",
    "- multi-label classification\n",
    "- regression tasks\n",
    "- captioning tasks\n",
    "\n",
    "Anything that can be displayed on Jupyter\n",
    "(text, images, audio, graphs, etc.) can be displayed by pigeon\n",
    "by providing the appropriate :code:`display_fn` argument.\n",
    "\n",
    "Additionally, custom hooks can be attached to each row update (:code:`example_process_fn`),\n",
    "or when the annotating task is complete(:code:`final_process_fn`).\n",
    "\n",
    "## Installation\n",
    "PigeonXT obviously needs a Jupyter Lab environment. Futhermore, it requires ipywidgets.\n",
    "The widget itself can be installed using pip:\n",
    "```bash\n",
    "    pip install pigeonXT-jupyter\n",
    "```\n",
    "\n",
    "To run the provided examples in a new environment using Conda:\n",
    "```bash\n",
    "    conda create --name pigeon python=3.7\n",
    "    conda activate pigeon\n",
    "    conda install nodejs\n",
    "    pip install numpy pandas jupyterlab ipywidgets\n",
    "    pip install pigeonXT-jupyter\n",
    "```\n",
    "\n",
    "Starting Jupyter Lab environment:\n",
    "```bash\n",
    "    jupyter lab\n",
    "```\n"
   ]
  },
  {
   "cell_type": "code",
   "execution_count": null,
   "metadata": {},
   "outputs": [],
   "source": []
  },
  {
   "cell_type": "code",
   "execution_count": null,
   "metadata": {},
   "outputs": [],
   "source": []
  },
  {
   "cell_type": "markdown",
   "metadata": {},
   "source": [
    "## Binary or multi-class classification"
   ]
  },
  {
   "cell_type": "code",
   "execution_count": 1,
   "metadata": {},
   "outputs": [],
   "source": [
    "from pigeonXT import annotate"
   ]
  },
  {
   "cell_type": "code",
   "execution_count": 2,
   "metadata": {},
   "outputs": [
    {
     "output_type": "display_data",
     "data": {
      "text/plain": "HTML(value='0 of 2 Examples annotated, Current Position: -1 ')",
      "application/vnd.jupyter.widget-view+json": {
       "version_major": 2,
       "version_minor": 0,
       "model_id": "2dd8c115eeb9448a89de9c22df008313"
      }
     },
     "metadata": {}
    },
    {
     "output_type": "display_data",
     "data": {
      "text/plain": "HBox(children=(Button(description='positive', style=ButtonStyle()), Button(description='negative', style=Butto…",
      "application/vnd.jupyter.widget-view+json": {
       "version_major": 2,
       "version_minor": 0,
       "model_id": "433aeed4dac04f58a9650bfa6e762336"
      }
     },
     "metadata": {}
    },
    {
     "output_type": "display_data",
     "data": {
      "text/plain": "Output()",
      "application/vnd.jupyter.widget-view+json": {
       "version_major": 2,
       "version_minor": 0,
       "model_id": "baa5c6d6a15b4d02990f12cfba64ebc1"
      }
     },
     "metadata": {}
    }
   ],
   "source": [
    "annotations = annotate(\n",
    "  ['I love this movie', 'I was really disappointed by the book'],\n",
    "  options=['positive', 'negative', 'inbetween']\n",
    ")"
   ]
  },
  {
   "cell_type": "code",
   "execution_count": 3,
   "metadata": {},
   "outputs": [
    {
     "output_type": "execute_result",
     "data": {
      "text/plain": "{}"
     },
     "metadata": {},
     "execution_count": 3
    }
   ],
   "source": [
    "annotations"
   ]
  },
  {
   "cell_type": "code",
   "execution_count": null,
   "metadata": {},
   "outputs": [],
   "source": []
  },
  {
   "cell_type": "code",
   "execution_count": null,
   "metadata": {},
   "outputs": [],
   "source": []
  },
  {
   "cell_type": "markdown",
   "metadata": {},
   "source": [
    "## Multi-label classification"
   ]
  },
  {
   "cell_type": "code",
   "execution_count": 1,
   "metadata": {},
   "outputs": [],
   "source": [
    "from pigeonXT import annotate\n",
    "import pandas as pd"
   ]
  },
  {
   "cell_type": "code",
   "execution_count": 4,
   "metadata": {},
   "outputs": [],
   "source": [
    "df = pd.DataFrame([\n",
    "    {'title': 'Star wars'},    \n",
    "    {'title': 'The Positively True Adventures of the Alleged Texas Cheerleader-Murdering Mom'},\n",
    "    {'title': 'Eternal Sunshine of the Spotless Mind'},\n",
    "    {'title': 'Dr. Strangelove or: How I Learned to Stop Worrying and Love the Bomb'},    \n",
    "    {'title': 'Killer klowns from outer space'},    \n",
    "])\n",
    "\n",
    "labels = ['Adventure', 'Romance', 'Fantasy', 'Science fiction', 'Horror', 'Thriller']"
   ]
  },
  {
   "cell_type": "code",
   "execution_count": 5,
   "metadata": {},
   "outputs": [
    {
     "output_type": "display_data",
     "data": {
      "text/plain": "HTML(value='0 of 5 Examples annotated, Current Position: -1 ')",
      "application/vnd.jupyter.widget-view+json": {
       "version_major": 2,
       "version_minor": 0,
       "model_id": "62983ec3466a4daeb67a18ecc6e090b5"
      }
     },
     "metadata": {}
    },
    {
     "output_type": "display_data",
     "data": {
      "text/plain": "VBox(children=(HBox(children=(ToggleButton(value=False, description='Adventure'), ToggleButton(value=False, de…",
      "application/vnd.jupyter.widget-view+json": {
       "version_major": 2,
       "version_minor": 0,
       "model_id": "aa1d11d9debc4671a36e5df5a132f8e9"
      }
     },
     "metadata": {}
    },
    {
     "output_type": "display_data",
     "data": {
      "text/plain": "Output()",
      "application/vnd.jupyter.widget-view+json": {
       "version_major": 2,
       "version_minor": 0,
       "model_id": "d9e04a79257643d79275f8812dd4a711"
      }
     },
     "metadata": {}
    }
   ],
   "source": [
    "annotations = annotate( df.title, \n",
    "                      options=labels, \n",
    "                      task_type='multilabel-classification',\n",
    "                      buttons_in_a_row=3,\n",
    "                      reset_buttons_after_click=True,\n",
    "                      include_skip=True,\n",
    "                      include_back=True)     \n"
   ]
  },
  {
   "cell_type": "code",
   "execution_count": 6,
   "metadata": {},
   "outputs": [
    {
     "output_type": "execute_result",
     "data": {
      "text/plain": "{'Star wars': ['Science fiction'],\n 'The Positively True Adventures of the Alleged Texas Cheerleader-Murdering Mom': ['Science fiction']}"
     },
     "metadata": {},
     "execution_count": 6
    }
   ],
   "source": [
    "annotations"
   ]
  },
  {
   "cell_type": "code",
   "execution_count": null,
   "metadata": {},
   "outputs": [],
   "source": []
  },
  {
   "cell_type": "code",
   "execution_count": null,
   "metadata": {},
   "outputs": [],
   "source": []
  },
  {
   "cell_type": "markdown",
   "metadata": {},
   "source": [
    "## Image labeling"
   ]
  },
  {
   "cell_type": "code",
   "execution_count": 8,
   "metadata": {},
   "outputs": [],
   "source": [
    "from pigeonXT import annotate\n",
    "from IPython.display import display, Image"
   ]
  },
  {
   "cell_type": "code",
   "execution_count": 9,
   "metadata": {},
   "outputs": [
    {
     "output_type": "display_data",
     "data": {
      "text/plain": "HTML(value='0 examples annotated, 2 examples left')",
      "application/vnd.jupyter.widget-view+json": {
       "version_major": 2,
       "version_minor": 0,
       "model_id": "bb27154b04964809a24e828c5be6512f"
      }
     },
     "metadata": {}
    },
    {
     "output_type": "display_data",
     "data": {
      "text/plain": "HBox(children=(Button(description='cat', style=ButtonStyle()), Button(description='dog', style=ButtonStyle()),…",
      "application/vnd.jupyter.widget-view+json": {
       "version_major": 2,
       "version_minor": 0,
       "model_id": "0aea1eb4073d4ad88e2d4b1719bf3746"
      }
     },
     "metadata": {}
    },
    {
     "output_type": "display_data",
     "data": {
      "text/plain": "Output()",
      "application/vnd.jupyter.widget-view+json": {
       "version_major": 2,
       "version_minor": 0,
       "model_id": "55f632ad36c7467a9e8e3ea2fe7c4502"
      }
     },
     "metadata": {}
    }
   ],
   "source": [
    "annotations = annotate(\n",
    "  ['assets/img_example1.jpg', 'assets/img_example2.jpg'],\n",
    "  options=['cat', 'dog', 'horse'],\n",
    "  display_fn=lambda filename: display(Image(filename))\n",
    ")"
   ]
  },
  {
   "cell_type": "code",
   "execution_count": 10,
   "metadata": {},
   "outputs": [
    {
     "output_type": "execute_result",
     "data": {
      "text/plain": "{'assets/img_example1.jpg': 'cat'}"
     },
     "metadata": {},
     "execution_count": 10
    }
   ],
   "source": [
    "annotations"
   ]
  },
  {
   "cell_type": "code",
   "execution_count": null,
   "metadata": {},
   "outputs": [],
   "source": []
  },
  {
   "cell_type": "code",
   "execution_count": null,
   "metadata": {},
   "outputs": [],
   "source": []
  },
  {
   "cell_type": "markdown",
   "metadata": {},
   "source": [
    "## Multi-label classification with custom hooks"
   ]
  },
  {
   "cell_type": "code",
   "execution_count": 11,
   "metadata": {},
   "outputs": [],
   "source": [
    "from pigeonXT import annotate\n",
    "import pandas as pd\n",
    "import numpy as np\n",
    "from pathlib import Path"
   ]
  },
  {
   "cell_type": "code",
   "execution_count": 12,
   "metadata": {},
   "outputs": [],
   "source": [
    "df = pd.DataFrame([\n",
    "    {'title': 'Star wars'},    \n",
    "    {'title': 'The Positively True Adventures of the Alleged Texas Cheerleader-Murdering Mom'},\n",
    "    {'title': 'Eternal Sunshine of the Spotless Mind'},\n",
    "    {'title': 'Dr. Strangelove or: How I Learned to Stop Worrying and Love the Bomb'},    \n",
    "    {'title': 'Killer klowns from outer space'},    \n",
    "])\n",
    "\n",
    "labels = ['Adventure', 'Romance', 'Fantasy', 'Science fiction', 'Horror', 'Thriller']\n",
    "shortLabels = ['A', 'R', 'F', 'SF', 'H', 'T']\n",
    "\n",
    "df.to_csv('inputtestdata.csv', index=False)"
   ]
  },
  {
   "cell_type": "code",
   "execution_count": 17,
   "metadata": {},
   "outputs": [],
   "source": [
    "def setLabels(labels, numClasses):\n",
    "    row = np.zeros([numClasses], dtype=np.uint8)\n",
    "    row[labels] = 1\n",
    "    return row\n",
    "\n",
    "def labelPortion(inputFile, \n",
    "                 labels = ['yes', 'no'], \n",
    "                 outputFile='output.csv', \n",
    "                 portionSize=2,\n",
    "                 textColumn='title',\n",
    "                 shortLabels=None):\n",
    "    if shortLabels == None:\n",
    "        shortLabels = labels\n",
    "    out = Path(outputFile)\n",
    "    if out.exists():\n",
    "        outdf = pd.read_csv(out)\n",
    "        currentId = outdf.index.max() + 1\n",
    "    else:\n",
    "        currentId = 0\n",
    "    indf = pd.read_csv(inputFile)\n",
    "    examplesInFile = len(indf)\n",
    "    indf = indf.loc[currentId:currentId + portionSize - 1]\n",
    "    actualPortionSize = len(indf)\n",
    "    print(f'{currentId + 1} - {currentId + actualPortionSize} of {examplesInFile}')\n",
    "    sentences = indf[textColumn].tolist()\n",
    "    \n",
    "    for label in shortLabels:\n",
    "        indf[label] = None\n",
    "    \n",
    "    def updateRow(title, selectedLabels):\n",
    "        print(title, selectedLabels)\n",
    "        labs = setLabels([labels.index(y) for y in selectedLabels], len(labels))\n",
    "        indf.loc[indf.title == title, shortLabels] = labs\n",
    "    \n",
    "    def finalProcessing(annotations):\n",
    "        if out.exists():\n",
    "            prevdata = pd.read_csv(out)\n",
    "            outdata = pd.concat([prevdata, indf]).reset_index(drop=True)\n",
    "        else:\n",
    "            outdata = indf.copy()\n",
    "        outdata.to_csv(out, index=False)\n",
    "    \n",
    "    annotated = annotate( sentences, \n",
    "                          options=labels, \n",
    "                          task_type='multilabel-classification',\n",
    "                          buttons_in_a_row=3,\n",
    "                          reset_buttons_after_click=True,\n",
    "                          include_skip=False,\n",
    "                          example_process_fn=updateRow,\n",
    "                          final_process_fn=finalProcessing)     \n",
    "    return indf"
   ]
  },
  {
   "cell_type": "code",
   "execution_count": 18,
   "metadata": {
    "tags": []
   },
   "outputs": [
    {
     "output_type": "stream",
     "name": "stdout",
     "text": "1 - 2 of 5\n"
    },
    {
     "output_type": "display_data",
     "data": {
      "text/plain": "HTML(value='0 examples annotated, 2 examples left')",
      "application/vnd.jupyter.widget-view+json": {
       "version_major": 2,
       "version_minor": 0,
       "model_id": "3063f0c28b484418baf59895d11e9269"
      }
     },
     "metadata": {}
    },
    {
     "output_type": "display_data",
     "data": {
      "text/plain": "VBox(children=(HBox(children=(ToggleButton(value=False, description='Adventure'), ToggleButton(value=False, de…",
      "application/vnd.jupyter.widget-view+json": {
       "version_major": 2,
       "version_minor": 0,
       "model_id": "28758e3fcd5c4a47ba55e372ad873653"
      }
     },
     "metadata": {}
    },
    {
     "output_type": "display_data",
     "data": {
      "text/plain": "Output()",
      "application/vnd.jupyter.widget-view+json": {
       "version_major": 2,
       "version_minor": 0,
       "model_id": "4c4747587b7442218834e1b96e058a40"
      }
     },
     "metadata": {}
    }
   ],
   "source": [
    "annotations = labelPortion('inputtestdata.csv',\n",
    "                           labels=labels,\n",
    "                           shortLabels= shortLabels)"
   ]
  },
  {
   "cell_type": "code",
   "execution_count": 19,
   "metadata": {},
   "outputs": [
    {
     "output_type": "execute_result",
     "data": {
      "text/plain": "                                               title  A  R  F SF  H  T\n0                                          Star wars  1  0  0  1  0  0\n1  The Positively True Adventures of the Alleged ...  0  1  0  0  1  0",
      "text/html": "<div>\n<style scoped>\n    .dataframe tbody tr th:only-of-type {\n        vertical-align: middle;\n    }\n\n    .dataframe tbody tr th {\n        vertical-align: top;\n    }\n\n    .dataframe thead th {\n        text-align: right;\n    }\n</style>\n<table border=\"1\" class=\"dataframe\">\n  <thead>\n    <tr style=\"text-align: right;\">\n      <th></th>\n      <th>title</th>\n      <th>A</th>\n      <th>R</th>\n      <th>F</th>\n      <th>SF</th>\n      <th>H</th>\n      <th>T</th>\n    </tr>\n  </thead>\n  <tbody>\n    <tr>\n      <th>0</th>\n      <td>Star wars</td>\n      <td>1</td>\n      <td>0</td>\n      <td>0</td>\n      <td>1</td>\n      <td>0</td>\n      <td>0</td>\n    </tr>\n    <tr>\n      <th>1</th>\n      <td>The Positively True Adventures of the Alleged ...</td>\n      <td>0</td>\n      <td>1</td>\n      <td>0</td>\n      <td>0</td>\n      <td>1</td>\n      <td>0</td>\n    </tr>\n  </tbody>\n</table>\n</div>"
     },
     "metadata": {},
     "execution_count": 19
    }
   ],
   "source": [
    "annotations # check while still annotating"
   ]
  },
  {
   "cell_type": "code",
   "execution_count": 20,
   "metadata": {},
   "outputs": [
    {
     "output_type": "execute_result",
     "data": {
      "text/plain": "                                               title  A  R  F SF  H  T\n0                                          Star wars  1  0  0  1  0  0\n1  The Positively True Adventures of the Alleged ...  0  1  0  0  1  0",
      "text/html": "<div>\n<style scoped>\n    .dataframe tbody tr th:only-of-type {\n        vertical-align: middle;\n    }\n\n    .dataframe tbody tr th {\n        vertical-align: top;\n    }\n\n    .dataframe thead th {\n        text-align: right;\n    }\n</style>\n<table border=\"1\" class=\"dataframe\">\n  <thead>\n    <tr style=\"text-align: right;\">\n      <th></th>\n      <th>title</th>\n      <th>A</th>\n      <th>R</th>\n      <th>F</th>\n      <th>SF</th>\n      <th>H</th>\n      <th>T</th>\n    </tr>\n  </thead>\n  <tbody>\n    <tr>\n      <th>0</th>\n      <td>Star wars</td>\n      <td>1</td>\n      <td>0</td>\n      <td>0</td>\n      <td>1</td>\n      <td>0</td>\n      <td>0</td>\n    </tr>\n    <tr>\n      <th>1</th>\n      <td>The Positively True Adventures of the Alleged ...</td>\n      <td>0</td>\n      <td>1</td>\n      <td>0</td>\n      <td>0</td>\n      <td>1</td>\n      <td>0</td>\n    </tr>\n  </tbody>\n</table>\n</div>"
     },
     "metadata": {},
     "execution_count": 20
    }
   ],
   "source": [
    "annotations"
   ]
  },
  {
   "cell_type": "code",
   "execution_count": 21,
   "metadata": {
    "tags": []
   },
   "outputs": [
    {
     "output_type": "stream",
     "name": "stdout",
     "text": "3 - 4 of 5\n"
    },
    {
     "output_type": "display_data",
     "data": {
      "text/plain": "HTML(value='0 examples annotated, 2 examples left')",
      "application/vnd.jupyter.widget-view+json": {
       "version_major": 2,
       "version_minor": 0,
       "model_id": "44e32efa339a4ebd9e7209ddbc06cc93"
      }
     },
     "metadata": {}
    },
    {
     "output_type": "display_data",
     "data": {
      "text/plain": "VBox(children=(HBox(children=(ToggleButton(value=False, description='Adventure'), ToggleButton(value=False, de…",
      "application/vnd.jupyter.widget-view+json": {
       "version_major": 2,
       "version_minor": 0,
       "model_id": "aff3e45a204141048bc8179d6ae9e32f"
      }
     },
     "metadata": {}
    },
    {
     "output_type": "display_data",
     "data": {
      "text/plain": "Output()",
      "application/vnd.jupyter.widget-view+json": {
       "version_major": 2,
       "version_minor": 0,
       "model_id": "a6cafc5cfc374925bc99807274aa0892"
      }
     },
     "metadata": {}
    }
   ],
   "source": [
    "annotations = labelPortion('inputtestdata.csv',\n",
    "                           labels=labels,\n",
    "                           shortLabels= shortLabels)"
   ]
  },
  {
   "cell_type": "code",
   "execution_count": 22,
   "metadata": {},
   "outputs": [
    {
     "output_type": "execute_result",
     "data": {
      "text/plain": "                                               title     A     R     F    SF  \\\n2              Eternal Sunshine of the Spotless Mind  None  None  None  None   \n3  Dr. Strangelove or: How I Learned to Stop Worr...  None  None  None  None   \n\n      H     T  \n2  None  None  \n3  None  None  ",
      "text/html": "<div>\n<style scoped>\n    .dataframe tbody tr th:only-of-type {\n        vertical-align: middle;\n    }\n\n    .dataframe tbody tr th {\n        vertical-align: top;\n    }\n\n    .dataframe thead th {\n        text-align: right;\n    }\n</style>\n<table border=\"1\" class=\"dataframe\">\n  <thead>\n    <tr style=\"text-align: right;\">\n      <th></th>\n      <th>title</th>\n      <th>A</th>\n      <th>R</th>\n      <th>F</th>\n      <th>SF</th>\n      <th>H</th>\n      <th>T</th>\n    </tr>\n  </thead>\n  <tbody>\n    <tr>\n      <th>2</th>\n      <td>Eternal Sunshine of the Spotless Mind</td>\n      <td>None</td>\n      <td>None</td>\n      <td>None</td>\n      <td>None</td>\n      <td>None</td>\n      <td>None</td>\n    </tr>\n    <tr>\n      <th>3</th>\n      <td>Dr. Strangelove or: How I Learned to Stop Worr...</td>\n      <td>None</td>\n      <td>None</td>\n      <td>None</td>\n      <td>None</td>\n      <td>None</td>\n      <td>None</td>\n    </tr>\n  </tbody>\n</table>\n</div>"
     },
     "metadata": {},
     "execution_count": 22
    }
   ],
   "source": [
    "annotations"
   ]
  },
  {
   "cell_type": "code",
   "execution_count": 23,
   "metadata": {
    "tags": []
   },
   "outputs": [
    {
     "output_type": "stream",
     "name": "stdout",
     "text": "3 - 4 of 5\n"
    },
    {
     "output_type": "display_data",
     "data": {
      "text/plain": "HTML(value='0 examples annotated, 2 examples left')",
      "application/vnd.jupyter.widget-view+json": {
       "version_major": 2,
       "version_minor": 0,
       "model_id": "18036866ade74743afc618a019390341"
      }
     },
     "metadata": {}
    },
    {
     "output_type": "display_data",
     "data": {
      "text/plain": "VBox(children=(HBox(children=(ToggleButton(value=False, description='Adventure'), ToggleButton(value=False, de…",
      "application/vnd.jupyter.widget-view+json": {
       "version_major": 2,
       "version_minor": 0,
       "model_id": "2fd032249c4a48a696c1405374d43308"
      }
     },
     "metadata": {}
    },
    {
     "output_type": "display_data",
     "data": {
      "text/plain": "Output()",
      "application/vnd.jupyter.widget-view+json": {
       "version_major": 2,
       "version_minor": 0,
       "model_id": "87f2b3c888344863bac3d0b68ac73ba9"
      }
     },
     "metadata": {}
    }
   ],
   "source": [
    "annotations = labelPortion('inputtestdata.csv',\n",
    "                           labels=labels,\n",
    "                           shortLabels= shortLabels)"
   ]
  },
  {
   "cell_type": "code",
   "execution_count": 24,
   "metadata": {},
   "outputs": [
    {
     "output_type": "execute_result",
     "data": {
      "text/plain": "                                               title     A     R     F    SF  \\\n2              Eternal Sunshine of the Spotless Mind  None  None  None  None   \n3  Dr. Strangelove or: How I Learned to Stop Worr...  None  None  None  None   \n\n      H     T  \n2  None  None  \n3  None  None  ",
      "text/html": "<div>\n<style scoped>\n    .dataframe tbody tr th:only-of-type {\n        vertical-align: middle;\n    }\n\n    .dataframe tbody tr th {\n        vertical-align: top;\n    }\n\n    .dataframe thead th {\n        text-align: right;\n    }\n</style>\n<table border=\"1\" class=\"dataframe\">\n  <thead>\n    <tr style=\"text-align: right;\">\n      <th></th>\n      <th>title</th>\n      <th>A</th>\n      <th>R</th>\n      <th>F</th>\n      <th>SF</th>\n      <th>H</th>\n      <th>T</th>\n    </tr>\n  </thead>\n  <tbody>\n    <tr>\n      <th>2</th>\n      <td>Eternal Sunshine of the Spotless Mind</td>\n      <td>None</td>\n      <td>None</td>\n      <td>None</td>\n      <td>None</td>\n      <td>None</td>\n      <td>None</td>\n    </tr>\n    <tr>\n      <th>3</th>\n      <td>Dr. Strangelove or: How I Learned to Stop Worr...</td>\n      <td>None</td>\n      <td>None</td>\n      <td>None</td>\n      <td>None</td>\n      <td>None</td>\n      <td>None</td>\n    </tr>\n  </tbody>\n</table>\n</div>"
     },
     "metadata": {},
     "execution_count": 24
    }
   ],
   "source": [
    "annotations"
   ]
  },
  {
   "cell_type": "code",
   "execution_count": 25,
   "metadata": {},
   "outputs": [
    {
     "output_type": "execute_result",
     "data": {
      "text/plain": "                                               title  A  R  F  SF  H  T\n0                                          Star wars  1  0  0   1  0  0\n1  The Positively True Adventures of the Alleged ...  0  1  0   0  1  0",
      "text/html": "<div>\n<style scoped>\n    .dataframe tbody tr th:only-of-type {\n        vertical-align: middle;\n    }\n\n    .dataframe tbody tr th {\n        vertical-align: top;\n    }\n\n    .dataframe thead th {\n        text-align: right;\n    }\n</style>\n<table border=\"1\" class=\"dataframe\">\n  <thead>\n    <tr style=\"text-align: right;\">\n      <th></th>\n      <th>title</th>\n      <th>A</th>\n      <th>R</th>\n      <th>F</th>\n      <th>SF</th>\n      <th>H</th>\n      <th>T</th>\n    </tr>\n  </thead>\n  <tbody>\n    <tr>\n      <th>0</th>\n      <td>Star wars</td>\n      <td>1</td>\n      <td>0</td>\n      <td>0</td>\n      <td>1</td>\n      <td>0</td>\n      <td>0</td>\n    </tr>\n    <tr>\n      <th>1</th>\n      <td>The Positively True Adventures of the Alleged ...</td>\n      <td>0</td>\n      <td>1</td>\n      <td>0</td>\n      <td>0</td>\n      <td>1</td>\n      <td>0</td>\n    </tr>\n  </tbody>\n</table>\n</div>"
     },
     "metadata": {},
     "execution_count": 25
    }
   ],
   "source": [
    "out = pd.read_csv('output.csv')\n",
    "out"
   ]
  },
  {
   "cell_type": "code",
   "execution_count": null,
   "metadata": {},
   "outputs": [],
   "source": []
  },
  {
   "cell_type": "code",
   "execution_count": null,
   "metadata": {},
   "outputs": [],
   "source": []
  }
 ],
 "metadata": {
  "kernelspec": {
   "display_name": "Python 3.8.5 64-bit ('pigeonXT': conda)",
   "language": "python",
   "name": "python_defaultSpec_1597606655785"
  },
  "language_info": {
   "codemirror_mode": {
    "name": "ipython",
    "version": 3
   },
   "file_extension": ".py",
   "mimetype": "text/x-python",
   "name": "python",
   "nbconvert_exporter": "python",
   "pygments_lexer": "ipython3",
   "version": "3.8.5-final"
  }
 },
 "nbformat": 4,
 "nbformat_minor": 4
}