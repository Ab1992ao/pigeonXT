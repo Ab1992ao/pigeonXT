{
 "cells": [
  {
   "cell_type": "markdown",
   "metadata": {},
   "source": [
    "# PigeonXT - Quickly annotate data in Jupyter Lab"
   ]
  },
  {
   "cell_type": "markdown",
   "metadata": {},
   "source": [
    "#### [Dennis Bakhuis](https://linkedin.com/in/dennisbakhuis/) - 28th May 2020\n",
    "https://github.com/dennisbakhuis/pigeonXT"
   ]
  },
  {
   "cell_type": "markdown",
   "metadata": {},
   "source": [
    "PigeonXT is an extention to the original [Pigeon](https://github.com/agermanidis/pigeon), created by [Anastasis Germanidis](https://pypi.org/user/agermanidis/).\n",
    "PigeonXT is a simple widget that lets you quickly annotate a dataset of\n",
    "unlabeled examples from the comfort of your Jupyter notebook.\n",
    "\n",
    "Pigeon currently support the following annotation tasks:\n",
    "- binary / multi-class classification\n",
    "- multi-label classification\n",
    "- regression tasks\n",
    "- captioning tasks\n",
    "\n",
    "Anything that can be displayed on Jupyter\n",
    "(text, images, audio, graphs, etc.) can be displayed by pigeon\n",
    "by providing the appropriate :code:`display_fn` argument.\n",
    "\n",
    "Additionally, custom hooks can be attached to each row update (:code:`example_process_fn`),\n",
    "or when the annotating task is complete(:code:`final_process_fn`).\n",
    "\n",
    "## Installation\n",
    "PigeonXT obviously needs a Jupyter Lab environment. Futhermore, it requires ipywidgets.\n",
    "The widget itself can be installed using pip:\n",
    "```bash\n",
    "    pip install pigeonXT-jupyter\n",
    "```\n",
    "\n",
    "To run the provided examples in a new environment using Conda:\n",
    "```bash\n",
    "    conda create --name pigeon python=3.7\n",
    "    conda activate pigeon\n",
    "    conda install nodejs\n",
    "    pip install numpy pandas jupyterlab ipywidgets\n",
    "    pip install pigeonXT-jupyter\n",
    "```\n",
    "\n",
    "Starting Jupyter Lab environment:\n",
    "```bash\n",
    "    jupyter lab\n",
    "```\n"
   ]
  },
  {
   "cell_type": "code",
   "execution_count": null,
   "metadata": {},
   "outputs": [],
   "source": []
  },
  {
   "cell_type": "code",
   "execution_count": null,
   "metadata": {},
   "outputs": [],
   "source": []
  },
  {
   "cell_type": "markdown",
   "metadata": {},
   "source": [
    "## Binary or multi-class classification"
   ]
  },
  {
   "cell_type": "code",
   "execution_count": null,
   "metadata": {},
   "outputs": [],
   "source": [
    "from pigeonXT import annotate"
   ]
  },
  {
   "cell_type": "code",
   "execution_count": null,
   "metadata": {},
   "outputs": [],
   "source": [
    "annotations = annotate(\n",
    "  ['I love this movie', 'I was really disappointed by the book'],\n",
    "  options=['positive', 'negative', 'inbetween']\n",
    ")"
   ]
  },
  {
   "cell_type": "code",
   "execution_count": null,
   "metadata": {},
   "outputs": [],
   "source": [
    "annotations"
   ]
  },
  {
   "cell_type": "code",
   "execution_count": null,
   "metadata": {},
   "outputs": [],
   "source": []
  },
  {
   "cell_type": "code",
   "execution_count": null,
   "metadata": {},
   "outputs": [],
   "source": []
  },
  {
   "cell_type": "markdown",
   "metadata": {},
   "source": [
    "## Multi-label classification"
   ]
  },
  {
   "cell_type": "code",
   "execution_count": null,
   "metadata": {},
   "outputs": [],
   "source": [
    "from pigeonXT import annotate\n",
    "import pandas as pd"
   ]
  },
  {
   "cell_type": "code",
   "execution_count": null,
   "metadata": {},
   "outputs": [],
   "source": [
    "df = pd.DataFrame([\n",
    "    {'title': 'Star wars'},    \n",
    "    {'title': 'The Positively True Adventures of the Alleged Texas Cheerleader-Murdering Mom'},\n",
    "    {'title': 'Eternal Sunshine of the Spotless Mind'},\n",
    "    {'title': 'Dr. Strangelove or: How I Learned to Stop Worrying and Love the Bomb'},    \n",
    "    {'title': 'Killer klowns from outer space'},    \n",
    "])\n",
    "\n",
    "labels = ['Adventure', 'Romance', 'Fantasy', 'Science fiction', 'Horror', 'Thriller']"
   ]
  },
  {
   "cell_type": "code",
   "execution_count": null,
   "metadata": {},
   "outputs": [],
   "source": [
    "annotations = annotate( df.title, \n",
    "                      options=labels, \n",
    "                      task_type='multilabel-classification',\n",
    "                      buttons_in_a_row=3,\n",
    "                      reset_buttons_after_click=True,\n",
    "                      include_skip=True,\n",
    "                      include_back=True)     \n"
   ]
  },
  {
   "cell_type": "code",
   "execution_count": null,
   "metadata": {},
   "outputs": [],
   "source": [
    "annotations"
   ]
  },
  {
   "cell_type": "code",
   "execution_count": null,
   "metadata": {},
   "outputs": [],
   "source": []
  },
  {
   "cell_type": "code",
   "execution_count": null,
   "metadata": {},
   "outputs": [],
   "source": []
  },
  {
   "cell_type": "markdown",
   "metadata": {},
   "source": [
    "## Image labeling"
   ]
  },
  {
   "cell_type": "code",
   "execution_count": null,
   "metadata": {},
   "outputs": [],
   "source": [
    "from pigeonXT import annotate\n",
    "from IPython.display import display, Image"
   ]
  },
  {
   "cell_type": "code",
   "execution_count": null,
   "metadata": {},
   "outputs": [],
   "source": [
    "annotations = annotate(\n",
    "  ['assets/img_example1.jpg', 'assets/img_example2.jpg'],\n",
    "  options=['cat', 'dog', 'horse'],\n",
    "  display_fn=lambda filename: display(Image(filename))\n",
    ")"
   ]
  },
  {
   "cell_type": "code",
   "execution_count": null,
   "metadata": {},
   "outputs": [],
   "source": [
    "annotations"
   ]
  },
  {
   "cell_type": "code",
   "execution_count": null,
   "metadata": {},
   "outputs": [],
   "source": []
  },
  {
   "cell_type": "code",
   "execution_count": null,
   "metadata": {},
   "outputs": [],
   "source": []
  },
  {
   "cell_type": "markdown",
   "metadata": {},
   "source": [
    "## Multi-label classification with custom hooks"
   ]
  },
  {
   "cell_type": "code",
   "execution_count": null,
   "metadata": {},
   "outputs": [],
   "source": [
    "from pigeonXT import annotate\n",
    "import pandas as pd\n",
    "import numpy as np\n",
    "from pathlib import Path"
   ]
  },
  {
   "cell_type": "code",
   "execution_count": null,
   "metadata": {},
   "outputs": [],
   "source": [
    "df = pd.DataFrame([\n",
    "    {'title': 'Star wars'},    \n",
    "    {'title': 'The Positively True Adventures of the Alleged Texas Cheerleader-Murdering Mom'},\n",
    "    {'title': 'Eternal Sunshine of the Spotless Mind'},\n",
    "    {'title': 'Dr. Strangelove or: How I Learned to Stop Worrying and Love the Bomb'},    \n",
    "    {'title': 'Killer klowns from outer space'},    \n",
    "])\n",
    "\n",
    "labels = ['Adventure', 'Romance', 'Fantasy', 'Science fiction', 'Horror', 'Thriller']\n",
    "shortLabels = ['A', 'R', 'F', 'SF', 'H', 'T']\n",
    "\n",
    "df.to_csv('inputtestdata.csv', index=False)"
   ]
  },
  {
   "cell_type": "code",
   "execution_count": null,
   "metadata": {},
   "outputs": [],
   "source": [
    "def setLabels(labels, numClasses):\n",
    "    row = np.zeros([numClasses], dtype=np.uint8)\n",
    "    row[labels] = 1\n",
    "    return row\n",
    "\n",
    "def labelPortion(inputFile, \n",
    "                 labels = ['yes', 'no'], \n",
    "                 outputFile='output.csv', \n",
    "                 portionSize=2,\n",
    "                 textColumn='title',\n",
    "                 shortLabels=None):\n",
    "    if shortLabels == None:\n",
    "        shortLabels = labels\n",
    "    out = Path(outputFile)\n",
    "    if out.exists():\n",
    "        outdf = pd.read_csv(out)\n",
    "        currentId = outdf.index.max() + 1\n",
    "    else:\n",
    "        currentId = 0\n",
    "    indf = pd.read_csv(inputFile)\n",
    "    examplesInFile = len(indf)\n",
    "    indf = indf.loc[currentId:currentId + portionSize - 1]\n",
    "    actualPortionSize = len(indf)\n",
    "    print(f'{currentId + 1} - {currentId + actualPortionSize} of {examplesInFile}')\n",
    "    sentences = indf[textColumn].tolist()\n",
    "    \n",
    "    for label in shortLabels:\n",
    "        indf[label] = None\n",
    "    \n",
    "    def updateRow(title, selectedLabels):\n",
    "        print(title, selectedLabels)\n",
    "        labs = setLabels([labels.index(y) for y in selectedLabels], len(labels))\n",
    "        indf.loc[indf.title == title, shortLabels] = labs\n",
    "    \n",
    "    def finalProcessing(annotations):\n",
    "        if out.exists():\n",
    "            prevdata = pd.read_csv(out)\n",
    "            outdata = pd.concat([prevdata, indf]).reset_index(drop=True)\n",
    "        else:\n",
    "            outdata = indf.copy()\n",
    "        outdata.to_csv(out, index=False)\n",
    "    \n",
    "    annotated = annotate( sentences, \n",
    "                          options=labels, \n",
    "                          task_type='multilabel-classification',\n",
    "                          buttons_in_a_row=3,\n",
    "                          reset_buttons_after_click=True,\n",
    "                          include_skip=False,\n",
    "                          example_process_fn=updateRow,\n",
    "                          final_process_fn=finalProcessing)     \n",
    "    return indf"
   ]
  },
  {
   "cell_type": "code",
   "execution_count": null,
   "metadata": {},
   "outputs": [],
   "source": [
    "annotations = labelPortion('inputtestdata.csv',\n",
    "                           labels=labels,\n",
    "                           shortLabels= shortLabels)"
   ]
  },
  {
   "cell_type": "code",
   "execution_count": null,
   "metadata": {},
   "outputs": [],
   "source": [
    "annotations # check while still annotating"
   ]
  },
  {
   "cell_type": "code",
   "execution_count": null,
   "metadata": {},
   "outputs": [],
   "source": [
    "annotations"
   ]
  },
  {
   "cell_type": "code",
   "execution_count": null,
   "metadata": {},
   "outputs": [],
   "source": [
    "annotations = labelPortion('inputtestdata.csv',\n",
    "                           labels=labels,\n",
    "                           shortLabels= shortLabels)"
   ]
  },
  {
   "cell_type": "code",
   "execution_count": null,
   "metadata": {},
   "outputs": [],
   "source": [
    "annotations"
   ]
  },
  {
   "cell_type": "code",
   "execution_count": null,
   "metadata": {},
   "outputs": [],
   "source": [
    "annotations = labelPortion('inputtestdata.csv',\n",
    "                           labels=labels,\n",
    "                           shortLabels= shortLabels)"
   ]
  },
  {
   "cell_type": "code",
   "execution_count": null,
   "metadata": {},
   "outputs": [],
   "source": [
    "annotations"
   ]
  },
  {
   "cell_type": "code",
   "execution_count": null,
   "metadata": {},
   "outputs": [],
   "source": [
    "out = pd.read_csv('output.csv')\n",
    "out"
   ]
  },
  {
   "cell_type": "code",
   "execution_count": null,
   "metadata": {},
   "outputs": [],
   "source": []
  },
  {
   "cell_type": "code",
   "execution_count": null,
   "metadata": {},
   "outputs": [],
   "source": []
  }
 ],
 "metadata": {
  "kernelspec": {
   "display_name": "Python 3.8.5 64-bit ('pigeonXT': conda)",
   "language": "python",
   "name": "python_defaultSpec_1597593413824"
  },
  "language_info": {
   "codemirror_mode": {
    "name": "ipython",
    "version": 3
   },
   "file_extension": ".py",
   "mimetype": "text/x-python",
   "name": "python",
   "nbconvert_exporter": "python",
   "pygments_lexer": "ipython3",
   "version": "3.8.5-final"
  }
 },
 "nbformat": 4,
 "nbformat_minor": 4
}